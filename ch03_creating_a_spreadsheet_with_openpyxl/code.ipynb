{
 "cells": [
  {
   "cell_type": "markdown",
   "id": "dacd6132-f2c8-4d9e-8178-93129b77aa95",
   "metadata": {},
   "source": [
    "# Chapter 3 Creating a Spreadsheet with OpenPyXL"
   ]
  },
  {
   "cell_type": "markdown",
   "id": "cd15cce7-630d-411c-8c0e-0468cf60200a",
   "metadata": {},
   "source": [
    "## Creating a Spreadsheet"
   ]
  },
  {
   "cell_type": "code",
   "execution_count": 1,
   "id": "44badc94-0ce4-4d26-ad68-15607328a8d1",
   "metadata": {},
   "outputs": [],
   "source": [
    "from openpyxl import Workbook"
   ]
  },
  {
   "cell_type": "code",
   "execution_count": 2,
   "id": "d100a6f8-96f0-4b75-9b82-ff9b563aeed5",
   "metadata": {},
   "outputs": [],
   "source": [
    "def create_workbook(path):\n",
    "    workbook = Workbook()\n",
    "    workbook.save(path)"
   ]
  },
  {
   "cell_type": "code",
   "execution_count": 3,
   "id": "e8bd2e58-c02c-4e39-9937-8825bcadb3bb",
   "metadata": {},
   "outputs": [],
   "source": [
    "create_workbook(\"01_hello.xlsx\")"
   ]
  },
  {
   "cell_type": "markdown",
   "id": "8cd495ba-3564-42f7-8c5d-4e3703b5ccc9",
   "metadata": {},
   "source": [
    "## Writing to a Spreadsheet"
   ]
  },
  {
   "cell_type": "code",
   "execution_count": 4,
   "id": "32ba564a-20e4-4d73-8721-cebc6c2729e0",
   "metadata": {},
   "outputs": [],
   "source": [
    "def writing_to_spreadsheet(path):\n",
    "    workbook = Workbook()\n",
    "    sheet = workbook.active\n",
    "    sheet[\"A1\"] = \"Hello\"\n",
    "    sheet[\"A2\"] = \"from\"\n",
    "    sheet[\"A3\"] = \"OpenPyXL\"\n",
    "    workbook.save(path)"
   ]
  },
  {
   "cell_type": "code",
   "execution_count": 5,
   "id": "2eb4fd4e-c723-44c1-8612-67effff2b4f1",
   "metadata": {},
   "outputs": [],
   "source": [
    "writing_to_spreadsheet(\"01_hello.xlsx\")"
   ]
  },
  {
   "cell_type": "code",
   "execution_count": 6,
   "id": "24d56da0",
   "metadata": {},
   "outputs": [],
   "source": [
    "def adding_row_data(path):\n",
    "    workbook = Workbook()\n",
    "    sheet = workbook.active\n",
    "    data = [[1, 2, 3],\n",
    "            [\"a\", \"b\", \"c\"],\n",
    "            [44, 55, 66]]\n",
    "    for row in data:\n",
    "        sheet.append(row)\n",
    "    workbook.save(path)"
   ]
  },
  {
   "cell_type": "code",
   "execution_count": 7,
   "id": "ffc1441d",
   "metadata": {},
   "outputs": [],
   "source": [
    "adding_row_data(\"02_write_rows.xlsx\")"
   ]
  },
  {
   "cell_type": "markdown",
   "id": "719a6060",
   "metadata": {},
   "source": [
    "## Adding and Removing Sheets"
   ]
  },
  {
   "cell_type": "code",
   "execution_count": 8,
   "id": "b67e8912-173b-490b-8ecd-fc8d4a0b655d",
   "metadata": {},
   "outputs": [],
   "source": [
    "def create_sheets(path):\n",
    "    workbook = Workbook()\n",
    "    sheet = workbook.active\n",
    "    sheet.title = \"Hello\"\n",
    "    sheet2 = workbook.create_sheet(title=\"World\")\n",
    "    workbook.save(path)"
   ]
  },
  {
   "cell_type": "code",
   "execution_count": 9,
   "id": "8820fb18-b918-413f-9c1d-1b1022383c05",
   "metadata": {},
   "outputs": [],
   "source": [
    "create_sheets(\"03_hello_sheets.xlsx\")"
   ]
  },
  {
   "cell_type": "code",
   "execution_count": 10,
   "id": "e7007586-21a9-45fc-87e1-a5b4b572d42b",
   "metadata": {},
   "outputs": [],
   "source": [
    "def delete_worksheets(path):\n",
    "    workbook = Workbook()\n",
    "    workbook.create_sheet()\n",
    "    print(workbook.sheetnames)\n",
    "    # Insert a worksheet\n",
    "    workbook.create_sheet(index=1, title=\"Second sheet\")\n",
    "    print(workbook.sheetnames)\n",
    "    del workbook[\"Second sheet\"]\n",
    "    print(workbook.sheetnames)\n",
    "    workbook.save(path)"
   ]
  },
  {
   "cell_type": "code",
   "execution_count": 11,
   "id": "1be077d8-4b78-4e3e-a567-935118614328",
   "metadata": {},
   "outputs": [
    {
     "name": "stdout",
     "output_type": "stream",
     "text": [
      "['Sheet', 'Sheet1']\n",
      "['Sheet', 'Second sheet', 'Sheet1']\n",
      "['Sheet', 'Sheet1']\n"
     ]
    }
   ],
   "source": [
    "delete_worksheets(\"04_del_sheets.xlsx\")"
   ]
  },
  {
   "cell_type": "markdown",
   "id": "13fcd90d-d4e1-4b6a-9bed-26f4447fcd70",
   "metadata": {},
   "source": [
    "## Inserting and Deleting Rows and Columns"
   ]
  },
  {
   "cell_type": "code",
   "execution_count": 12,
   "id": "bd980f0c-1af3-4d70-a474-df015ca43f22",
   "metadata": {},
   "outputs": [],
   "source": [
    "def inserting_cols_rows(path):\n",
    "    workbook = Workbook()\n",
    "    sheet = workbook.active\n",
    "    sheet[\"A1\"] = \"Hello\"\n",
    "    sheet[\"A2\"] = \"from\"\n",
    "    sheet[\"A3\"] = \"OpenPyXL\"\n",
    "    # insert a column before A\n",
    "    sheet.insert_cols(idx=1)\n",
    "    # insert 2 rows starting on the second row\n",
    "    sheet.insert_rows(idx=2, amount=2)\n",
    "    workbook.save(path)"
   ]
  },
  {
   "cell_type": "code",
   "execution_count": 13,
   "id": "a38a7258-df59-4a89-925b-f347882177eb",
   "metadata": {},
   "outputs": [],
   "source": [
    "inserting_cols_rows(\"05_inserting_cols_rows.xlsx\")"
   ]
  },
  {
   "cell_type": "code",
   "execution_count": 14,
   "id": "3cf707f9-f9ff-466c-9262-a10462fda5c2",
   "metadata": {},
   "outputs": [],
   "source": [
    "def deleting_cols_rows(path):\n",
    "    workbook = Workbook()\n",
    "    sheet = workbook.active\n",
    "    sheet[\"A1\"] = \"Hello\"\n",
    "    sheet[\"B1\"] = \"from\"\n",
    "    sheet[\"C1\"] = \"OpenPyXL\"\n",
    "    sheet[\"A2\"] = \"row 2\"\n",
    "    sheet[\"A3\"] = \"row 3\"\n",
    "    sheet[\"A4\"] = \"row 4\"\n",
    "    # Delete column A\n",
    "    sheet.delete_cols(idx=1)\n",
    "    # Delete 2 rows starting on the second row\n",
    "    sheet.delete_rows(idx=2, amount=2)\n",
    "    workbook.save(path)"
   ]
  },
  {
   "cell_type": "code",
   "execution_count": 15,
   "id": "2b5356c0-d41c-4e17-99e9-fafd474c7cd6",
   "metadata": {},
   "outputs": [],
   "source": [
    "deleting_cols_rows(\"06_deleting_cols_rows.xlsx\")"
   ]
  },
  {
   "cell_type": "markdown",
   "id": "9d74783f-6ad8-4311-8654-58b8f815f275",
   "metadata": {},
   "source": [
    "## Editing Cell Data"
   ]
  },
  {
   "cell_type": "code",
   "execution_count": 16,
   "id": "553cba8e-df6e-4e14-90ab-c6c580da6029",
   "metadata": {},
   "outputs": [],
   "source": [
    "from openpyxl import load_workbook"
   ]
  },
  {
   "cell_type": "code",
   "execution_count": 17,
   "id": "5862aadb-f923-4ef2-9b4a-0f2a04c60a45",
   "metadata": {},
   "outputs": [],
   "source": [
    "def editing_cell(path, data):\n",
    "    workbook = load_workbook(filename=path)\n",
    "    sheet = workbook.active\n",
    "    for cell in data:\n",
    "        current_value = sheet[cell].value\n",
    "        sheet[cell] = data[cell]\n",
    "        print(f'Changing {cell} from {current_value} to {data[cell]}')\n",
    "    workbook.save(path)"
   ]
  },
  {
   "cell_type": "code",
   "execution_count": 18,
   "id": "e2bb6d7a-c6c5-4ded-82aa-af88d9b63a45",
   "metadata": {},
   "outputs": [
    {
     "ename": "NameError",
     "evalue": "name 'data' is not defined",
     "output_type": "error",
     "traceback": [
      "\u001b[0;31m---------------------------------------------------------------------------\u001b[0m",
      "\u001b[0;31mNameError\u001b[0m                                 Traceback (most recent call last)",
      "Cell \u001b[0;32mIn[18], line 2\u001b[0m\n\u001b[1;32m      1\u001b[0m \u001b[38;5;66;03m# data = {\"B1\": \"Hi\", \"B5\": \"Python\"}\u001b[39;00m\n\u001b[0;32m----> 2\u001b[0m editing_cell(\u001b[38;5;124m\"\u001b[39m\u001b[38;5;124m05_inserting_cols_rows.xlsx\u001b[39m\u001b[38;5;124m\"\u001b[39m, \u001b[43mdata\u001b[49m)\n",
      "\u001b[0;31mNameError\u001b[0m: name 'data' is not defined"
     ]
    }
   ],
   "source": [
    "data = {\"B1\": \"Hi\", \"B5\": \"Python\"}\n",
    "editing_cell(\"05_inserting_cols_rows.xlsx\", data)"
   ]
  },
  {
   "cell_type": "markdown",
   "id": "8d7723a3-0ed1-4838-b1eb-7004b2ec4b69",
   "metadata": {},
   "source": [
    "## Creating Merged Cells"
   ]
  },
  {
   "cell_type": "code",
   "execution_count": null,
   "id": "936c141d-8098-4e03-b916-0197585ab838",
   "metadata": {},
   "outputs": [],
   "source": [
    "from openpyxl.styles import Alignment"
   ]
  },
  {
   "cell_type": "code",
   "execution_count": null,
   "id": "103fc8d7-22b5-4e82-a5cf-b3e851cfd4b8",
   "metadata": {},
   "outputs": [],
   "source": [
    "def create_merged_cells(path, value):\n",
    "    workbook = Workbook()\n",
    "    sheet = workbook.active\n",
    "    sheet.merge_cells(\"A2:E2\")\n",
    "    top_left_cell = sheet[\"A2\"]\n",
    "    top_left_cell.alignment = Alignment(horizontal=\"center\", vertical=\"center\")\n",
    "\n",
    "    sheet[\"A2\"] = value\n",
    "    workbook.save(path)"
   ]
  },
  {
   "cell_type": "code",
   "execution_count": null,
   "id": "78c55bca-5611-4003-8d70-c0575e92f7e1",
   "metadata": {},
   "outputs": [],
   "source": [
    "create_merged_cells(\"07_merged.xlsx\", \"Hello World\")"
   ]
  },
  {
   "cell_type": "markdown",
   "id": "ff149f65-c6c8-448d-b78c-a8bc9216161d",
   "metadata": {},
   "source": [
    "## Folding Rows and Columns"
   ]
  },
  {
   "cell_type": "code",
   "execution_count": null,
   "id": "cbba32f5-1fbd-4051-91c0-ebaf778f41f9",
   "metadata": {},
   "outputs": [],
   "source": [
    "def folding(path, rows=None, cols=None, hidden=True):\n",
    "    workbook = Workbook()\n",
    "    sheet = workbook.active\n",
    "\n",
    "    if rows:\n",
    "        begin_row, end_row = rows\n",
    "        sheet.row_dimensions.group(begin_row, end_row, hidden=hidden)\n",
    "\n",
    "    if cols:\n",
    "        begin_col, end_col = cols\n",
    "        sheet.column_dimensions.group(begin_col, end_col, hidden=hidden)\n",
    "\n",
    "    workbook.save(path)"
   ]
  },
  {
   "cell_type": "code",
   "execution_count": null,
   "id": "8ed0af3e-d07f-49f6-91b2-421cc07f881e",
   "metadata": {},
   "outputs": [],
   "source": [
    "folding(\"08_folding.xlsx\", rows=(1, 5), cols=(\"C\", \"F\"))"
   ]
  },
  {
   "cell_type": "markdown",
   "id": "9801abf1-ef87-4a8f-bbb3-60727dbd055c",
   "metadata": {},
   "source": [
    "## Freezing Panes"
   ]
  },
  {
   "cell_type": "code",
   "execution_count": null,
   "id": "2b669c41-2c4e-4d10-904a-463c3ef5b44b",
   "metadata": {},
   "outputs": [],
   "source": [
    "def freeze(path, row_to_freeze):\n",
    "    workbook = Workbook()\n",
    "    sheet = workbook.active\n",
    "    sheet.title = \"Freeze\"\n",
    "    sheet.freeze_panes = row_to_freeze\n",
    "    headers = [\"Name\", \"Address\", \"State\", \"Zip\"]\n",
    "    sheet[\"A1\"] = headers[0]\n",
    "    sheet[\"B1\"] = headers[1]\n",
    "    sheet[\"C1\"] = headers[2]\n",
    "    sheet[\"D1\"] = headers[3]\n",
    "    data = [dict(zip(headers, (\"Mike\", \"123 Storm Dr\", \"IA\", \"50000\"))),\n",
    "            dict(zip(headers, (\"Ted\", \"555 Tornado Alley\", \"OK\", \"90000\")))]\n",
    "    row = 2\n",
    "    for d in data:\n",
    "        sheet[f'A{row}'] = d[\"Name\"]\n",
    "        sheet[f'B{row}'] = d[\"Address\"]\n",
    "        sheet[f'C{row}'] = d[\"State\"]\n",
    "        sheet[f'D{row}'] = d[\"Zip\"]\n",
    "        row += 1\n",
    "    workbook.save(path)"
   ]
  },
  {
   "cell_type": "code",
   "execution_count": null,
   "id": "cc6f1f6b-7ccc-4ce8-8524-89dd5c163aa0",
   "metadata": {},
   "outputs": [],
   "source": [
    "freeze(\"09_freeze.xlsx\", row_to_freeze=\"A2\")"
   ]
  }
 ],
 "metadata": {
  "kernelspec": {
   "display_name": "Python 3 (ipykernel)",
   "language": "python",
   "name": "python3"
  },
  "language_info": {
   "codemirror_mode": {
    "name": "ipython",
    "version": 3
   },
   "file_extension": ".py",
   "mimetype": "text/x-python",
   "name": "python",
   "nbconvert_exporter": "python",
   "pygments_lexer": "ipython3",
   "version": "3.12.7"
  }
 },
 "nbformat": 4,
 "nbformat_minor": 5
}
